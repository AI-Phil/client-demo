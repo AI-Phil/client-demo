{
 "cells": [
  {
   "cell_type": "code",
   "execution_count": 1,
   "metadata": {},
   "outputs": [
    {
     "data": {
      "text/plain": [
       "True"
      ]
     },
     "execution_count": 1,
     "metadata": {},
     "output_type": "execute_result"
    }
   ],
   "source": [
    "from dotenv import load_dotenv\n",
    "load_dotenv(override=True)"
   ]
  },
  {
   "cell_type": "markdown",
   "metadata": {},
   "source": [
    "## Connect to Astra"
   ]
  },
  {
   "cell_type": "code",
   "execution_count": 2,
   "metadata": {},
   "outputs": [
    {
     "name": "stdout",
     "output_type": "stream",
     "text": [
      "Connected to Astra DB: ['langchain_message_store', 'memories']\n"
     ]
    }
   ],
   "source": [
    "from astrapy import DataAPIClient\n",
    "import os\n",
    "\n",
    "# Initialize the client\n",
    "client = DataAPIClient(os.getenv('ASTRA_DB_APPLICATION_TOKEN'))\n",
    "db = client.get_database_by_api_endpoint(\n",
    "  os.getenv('ASTRA_DB_API_ENDPOINT'),\n",
    "    namespace=os.getenv('ASTRA_DB_NAMESPACE'),\n",
    ")\n",
    "      \n",
    "print(f\"Connected to Astra DB: {db.list_collection_names()}\")"
   ]
  },
  {
   "cell_type": "markdown",
   "metadata": {},
   "source": [
    "## Create Collection (Vectorize)"
   ]
  },
  {
   "cell_type": "markdown",
   "metadata": {},
   "source": [
    "> You can add an external embedding provider to your collection to automatically generate embeddings with [Astra DB vectorize](https://docs.datastax.com/en/astra-db-serverless/databases/embedding-generation.html). To do this, you must add an [external embedding provider integration](https://docs.datastax.com/en/astra-db-serverless/databases/embedding-generation.html#supported-embedding-providers) to your Astra DB organization, and then you can use that embedding provider when you create a collection."
   ]
  },
  {
   "cell_type": "markdown",
   "metadata": {},
   "source": [
    "For demonstration, have added OpenAI integration."
   ]
  },
  {
   "cell_type": "code",
   "execution_count": 5,
   "metadata": {},
   "outputs": [
    {
     "name": "stdout",
     "output_type": "stream",
     "text": [
      "* Collection: default_keyspace.demo\n",
      "\n"
     ]
    }
   ],
   "source": [
    "from astrapy.constants import VectorMetric\n",
    "from astrapy.info import CollectionVectorServiceOptions\n",
    "\n",
    "collection = db.create_collection(\n",
    "    \"demo\",\n",
    "    metric=VectorMetric.COSINE,\n",
    "    service=CollectionVectorServiceOptions(\n",
    "        provider=\"openai\",\n",
    "        model_name=\"text-embedding-3-small\",\n",
    "        authentication={\n",
    "            \"providerKey\": \"phil_svcacct_poYgA\",\n",
    "        },\n",
    "        # parameters={\n",
    "        #     \"organizationId\": \"ORGANIZATION_ID\",\n",
    "        #     \"projectId\": \"PROJECT_ID\",\n",
    "        # },\n",
    "    ),\n",
    ")\n",
    "print(f\"* Collection: {collection.full_name}\\n\")\n"
   ]
  },
  {
   "cell_type": "markdown",
   "metadata": {},
   "source": [
    "## Add Documents to Collection (Vectorize)"
   ]
  },
  {
   "cell_type": "code",
   "execution_count": 14,
   "metadata": {},
   "outputs": [
    {
     "name": "stdout",
     "output_type": "stream",
     "text": [
      "* Inserted 3 items.\n",
      "\n"
     ]
    }
   ],
   "source": [
    "# Insert documents into the collection.\n",
    "# (UUIDs here are version 7.)\n",
    "documents = [\n",
    "    {\n",
    "        \"_id\": \"018e65c9-df45-7913-89f8-175f28bd7f74\",\n",
    "        \"$vectorize\": \"Chat bot integrated sneakers that talk to you\",\n",
    "        \"metadata\": {}\n",
    "    },\n",
    "    {\n",
    "        \"_id\": \"018e65c9-e1b7-7048-a593-db452be1e4c2\",\n",
    "        \"$vectorize\": \"An AI quilt to help you sleep forever\",\n",
    "        \"metadata\": {}\n",
    "    },\n",
    "    {\n",
    "        \"_id\": \"018e65c9-e33d-749b-9386-e848739582f0\",\n",
    "        \"$vectorize\": \"A deep learning display that controls your mood\",\n",
    "        \"metadata\": {}\n",
    "    },\n",
    "]\n",
    "insertion_result = collection.insert_many(documents)\n",
    "print(f\"* Inserted {len(insertion_result.inserted_ids)} items.\\n\")"
   ]
  },
  {
   "cell_type": "markdown",
   "metadata": {},
   "source": [
    "## Vector Search (Vectorize)"
   ]
  },
  {
   "cell_type": "code",
   "execution_count": 12,
   "metadata": {},
   "outputs": [
    {
     "name": "stdout",
     "output_type": "stream",
     "text": [
      "Vector search results for 'I'd like some talking shoes':\n",
      "     {'_id': UUID('018e65c9-df45-7913-89f8-175f28bd7f74'), '$vectorize': 'Chat bot integrated sneakers that talk to you', '$similarity': 0.76328015}\n",
      "     {'_id': UUID('018e65c9-e33d-749b-9386-e848739582f0'), '$vectorize': 'A deep learning display that controls your mood', '$similarity': 0.6000229}\n"
     ]
    }
   ],
   "source": [
    "# Perform a similarity search\n",
    "query = \"I'd like some talking shoes\"\n",
    "results = collection.find(\n",
    "    sort={\"$vectorize\": query},\n",
    "    limit=2,\n",
    "    projection={\"$vectorize\": True},\n",
    "    include_similarity=True,\n",
    ")\n",
    "print(f\"Vector search results for '{query}':\")\n",
    "for document in results:\n",
    "    print(\"    \", document)"
   ]
  }
 ],
 "metadata": {
  "kernelspec": {
   "display_name": ".venv",
   "language": "python",
   "name": "python3"
  },
  "language_info": {
   "codemirror_mode": {
    "name": "ipython",
    "version": 3
   },
   "file_extension": ".py",
   "mimetype": "text/x-python",
   "name": "python",
   "nbconvert_exporter": "python",
   "pygments_lexer": "ipython3",
   "version": "3.11.8"
  }
 },
 "nbformat": 4,
 "nbformat_minor": 2
}
